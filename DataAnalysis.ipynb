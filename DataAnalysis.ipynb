{
  "nbformat": 4,
  "nbformat_minor": 0,
  "metadata": {
    "colab": {
      "name": "DataAnalysis.ipynb",
      "provenance": [],
      "collapsed_sections": [],
      "toc_visible": true,
      "authorship_tag": "ABX9TyN0UNfWDyvTEpg1S9TjhHf8",
      "include_colab_link": true
    },
    "kernelspec": {
      "name": "python3",
      "display_name": "Python 3"
    }
  },
  "cells": [
    {
      "cell_type": "markdown",
      "metadata": {
        "id": "view-in-github",
        "colab_type": "text"
      },
      "source": [
        "<a href=\"https://colab.research.google.com/github/KilianWdt/DataAnalysis/blob/master/DataAnalysis.ipynb\" target=\"_parent\"><img src=\"https://colab.research.google.com/assets/colab-badge.svg\" alt=\"Open In Colab\"/></a>"
      ]
    },
    {
      "cell_type": "markdown",
      "metadata": {
        "id": "_YP60Y34qL6g",
        "colab_type": "text"
      },
      "source": [
        "# 1. Import et preprocessing\n",
        "\n",
        "## Récupération du fichier"
      ]
    },
    {
      "cell_type": "code",
      "metadata": {
        "id": "tzJFZkx9zSOZ",
        "colab_type": "code",
        "colab": {
          "base_uri": "https://localhost:8080/",
          "height": 204
        },
        "outputId": "6bb9b07a-453e-4d8b-e810-7cc6353d12f2"
      },
      "source": [
        "!wget --show-progress https://archive.ics.uci.edu/ml/machine-learning-databases/00495/data.zip"
      ],
      "execution_count": 2,
      "outputs": [
        {
          "output_type": "stream",
          "text": [
            "--2020-01-31 18:25:47--  https://archive.ics.uci.edu/ml/machine-learning-databases/00495/data.zip\n",
            "Resolving archive.ics.uci.edu (archive.ics.uci.edu)... 128.195.10.252\n",
            "Connecting to archive.ics.uci.edu (archive.ics.uci.edu)|128.195.10.252|:443... connected.\n",
            "HTTP request sent, awaiting response... 200 OK\n",
            "Length: 2864337783 (2.7G) [application/x-httpd-php]\n",
            "Saving to: ‘data.zip’\n",
            "\n",
            "data.zip            100%[===================>]   2.67G  45.9MB/s    in 60s     \n",
            "\n",
            "2020-01-31 18:26:47 (45.8 MB/s) - ‘data.zip’ saved [2864337783/2864337783]\n",
            "\n"
          ],
          "name": "stdout"
        }
      ]
    },
    {
      "cell_type": "markdown",
      "metadata": {
        "id": "B_eV9JgJqfY3",
        "colab_type": "text"
      },
      "source": [
        "## Dézippage"
      ]
    },
    {
      "cell_type": "code",
      "metadata": {
        "id": "U0iwFlUP1OWj",
        "colab_type": "code",
        "colab": {
          "base_uri": "https://localhost:8080/",
          "height": 1000
        },
        "outputId": "f9b9dad9-f71f-410f-9000-107ae675710b"
      },
      "source": [
        "!unzip data.zip"
      ],
      "execution_count": 3,
      "outputs": [
        {
          "output_type": "stream",
          "text": [
            "Archive:  data.zip\n",
            "   creating: PPG_FieldStudy/\n",
            "  inflating: PPG_FieldStudy/PPG_FieldStudy_readme.pdf  \n",
            "   creating: PPG_FieldStudy/S1/\n",
            "   creating: PPG_FieldStudy/S10/\n",
            "  inflating: PPG_FieldStudy/S10/S10.pkl  \n",
            "  inflating: PPG_FieldStudy/S10/S10_activity.csv  \n",
            "  inflating: PPG_FieldStudy/S10/S10_E4.zip  \n",
            "  inflating: PPG_FieldStudy/S10/S10_quest.csv  \n",
            "  inflating: PPG_FieldStudy/S10/S10_RespiBAN.h5  \n",
            "   creating: PPG_FieldStudy/S11/\n",
            "  inflating: PPG_FieldStudy/S11/S11.pkl  \n",
            "  inflating: PPG_FieldStudy/S11/S11_activity.csv  \n",
            "  inflating: PPG_FieldStudy/S11/S11_E4.zip  \n",
            "  inflating: PPG_FieldStudy/S11/S11_quest.csv  \n",
            "  inflating: PPG_FieldStudy/S11/S11_RespiBAN.h5  \n",
            "   creating: PPG_FieldStudy/S12/\n",
            "  inflating: PPG_FieldStudy/S12/S12.pkl  \n",
            "  inflating: PPG_FieldStudy/S12/S12_activity.csv  \n",
            "  inflating: PPG_FieldStudy/S12/S12_E4.zip  \n",
            "  inflating: PPG_FieldStudy/S12/S12_quest.csv  \n",
            "  inflating: PPG_FieldStudy/S12/S12_RespiBAN.h5  \n",
            "   creating: PPG_FieldStudy/S13/\n",
            "  inflating: PPG_FieldStudy/S13/S13.pkl  \n",
            "  inflating: PPG_FieldStudy/S13/S13_activity.csv  \n",
            "  inflating: PPG_FieldStudy/S13/S13_E4.zip  \n",
            "  inflating: PPG_FieldStudy/S13/S13_quest.csv  \n",
            "  inflating: PPG_FieldStudy/S13/S13_RespiBAN.h5  \n",
            "   creating: PPG_FieldStudy/S14/\n",
            "  inflating: PPG_FieldStudy/S14/S14.pkl  \n",
            "  inflating: PPG_FieldStudy/S14/S14_activity.csv  \n",
            "  inflating: PPG_FieldStudy/S14/S14_E4.zip  \n",
            "  inflating: PPG_FieldStudy/S14/S14_quest.csv  \n",
            "  inflating: PPG_FieldStudy/S14/S14_RespiBAN.h5  \n",
            "   creating: PPG_FieldStudy/S15/\n",
            "  inflating: PPG_FieldStudy/S15/S15.pkl  \n",
            "  inflating: PPG_FieldStudy/S15/S15_activity.csv  \n",
            "  inflating: PPG_FieldStudy/S15/S15_E4.zip  \n",
            "  inflating: PPG_FieldStudy/S15/S15_quest.csv  \n",
            "  inflating: PPG_FieldStudy/S15/S15_RespiBAN.h5  \n",
            "  inflating: PPG_FieldStudy/S1/S1.pkl  \n",
            "  inflating: PPG_FieldStudy/S1/S1_activity.csv  \n",
            "  inflating: PPG_FieldStudy/S1/S1_E4.zip  \n",
            "  inflating: PPG_FieldStudy/S1/S1_quest.csv  \n",
            "  inflating: PPG_FieldStudy/S1/S1_RespiBAN.h5  \n",
            "   creating: PPG_FieldStudy/S2/\n",
            "  inflating: PPG_FieldStudy/S2/S2.pkl  \n",
            "  inflating: PPG_FieldStudy/S2/S2_activity.csv  \n",
            "  inflating: PPG_FieldStudy/S2/S2_E4.zip  \n",
            "  inflating: PPG_FieldStudy/S2/S2_quest.csv  \n",
            "  inflating: PPG_FieldStudy/S2/S2_RespiBAN.h5  \n",
            "   creating: PPG_FieldStudy/S3/\n",
            "  inflating: PPG_FieldStudy/S3/S3.pkl  \n",
            "  inflating: PPG_FieldStudy/S3/S3_activity.csv  \n",
            "  inflating: PPG_FieldStudy/S3/S3_E4.zip  \n",
            "  inflating: PPG_FieldStudy/S3/S3_quest.csv  \n",
            "  inflating: PPG_FieldStudy/S3/S3_RespiBAN.h5  \n",
            "   creating: PPG_FieldStudy/S4/\n",
            "  inflating: PPG_FieldStudy/S4/S4.pkl  \n",
            "  inflating: PPG_FieldStudy/S4/S4_activity.csv  \n",
            "  inflating: PPG_FieldStudy/S4/S4_E4.zip  \n",
            "  inflating: PPG_FieldStudy/S4/S4_quest.csv  \n",
            "  inflating: PPG_FieldStudy/S4/S4_RespiBAN.h5  \n",
            "   creating: PPG_FieldStudy/S5/\n",
            "  inflating: PPG_FieldStudy/S5/S5.pkl  \n",
            "  inflating: PPG_FieldStudy/S5/S5_activity.csv  \n",
            "  inflating: PPG_FieldStudy/S5/S5_E4.zip  \n",
            "  inflating: PPG_FieldStudy/S5/S5_quest.csv  \n",
            "  inflating: PPG_FieldStudy/S5/S5_RespiBAN.h5  \n",
            "   creating: PPG_FieldStudy/S6/\n",
            "  inflating: PPG_FieldStudy/S6/S6.pkl  \n",
            "  inflating: PPG_FieldStudy/S6/S6_activity.csv  \n",
            "  inflating: PPG_FieldStudy/S6/S6_E4.zip  \n",
            "  inflating: PPG_FieldStudy/S6/S6_quest.csv  \n",
            "  inflating: PPG_FieldStudy/S6/S6_RespiBAN.h5  \n",
            "   creating: PPG_FieldStudy/S7/\n",
            "  inflating: PPG_FieldStudy/S7/S7.pkl  \n",
            "  inflating: PPG_FieldStudy/S7/S7_activity.csv  \n",
            "  inflating: PPG_FieldStudy/S7/S7_E4.zip  \n",
            "  inflating: PPG_FieldStudy/S7/S7_quest.csv  \n",
            "  inflating: PPG_FieldStudy/S7/S7_RespiBAN.h5  \n",
            "   creating: PPG_FieldStudy/S8/\n",
            "  inflating: PPG_FieldStudy/S8/S8.pkl  \n",
            "  inflating: PPG_FieldStudy/S8/S8_activity.csv  \n",
            "  inflating: PPG_FieldStudy/S8/S8_E4.zip  \n",
            "  inflating: PPG_FieldStudy/S8/S8_quest.csv  \n",
            "  inflating: PPG_FieldStudy/S8/S8_RespiBAN.h5  \n",
            "   creating: PPG_FieldStudy/S9/\n",
            "  inflating: PPG_FieldStudy/S9/S9.pkl  \n",
            "  inflating: PPG_FieldStudy/S9/S9_activity.csv  \n",
            "  inflating: PPG_FieldStudy/S9/S9_E4.zip  \n",
            "  inflating: PPG_FieldStudy/S9/S9_quest.csv  \n",
            "  inflating: PPG_FieldStudy/S9/S9_RespiBAN.h5  \n"
          ],
          "name": "stdout"
        }
      ]
    },
    {
      "cell_type": "markdown",
      "metadata": {
        "id": "qhdRllv3qmLj",
        "colab_type": "text"
      },
      "source": [
        "### On récupère les données dans le .pkl"
      ]
    },
    {
      "cell_type": "code",
      "metadata": {
        "id": "aOnYkwZE11lW",
        "colab_type": "code",
        "colab": {}
      },
      "source": [
        "import pandas as pd\n",
        "import numpy as np\n",
        "\n",
        "def toDataframe(data):\n",
        "    dic = {}\n",
        "    dic[\"Subject\"]=data[\"subject\"]\n",
        "    dic[\"activity\"]=np.squeeze(data[\"activity\"])[::4]\n",
        "    dic[\"respiration\"]=np.squeeze(data[\"signal\"][\"chest\"][\"Resp\"])[::700]\n",
        "    dic[\"ACC_w_x\"] =np.squeeze(data[\"signal\"][\"wrist\"][\"ACC\"])[::32,0]\n",
        "    dic[\"ACC_w_y\"] =np.squeeze(data[\"signal\"][\"wrist\"][\"ACC\"])[::32,1]\n",
        "    dic[\"ACC_w_z\"] =np.squeeze(data[\"signal\"][\"wrist\"][\"ACC\"])[::32,2]\n",
        "    dic[\"temp\"] =np.squeeze(data[\"signal\"][\"wrist\"][\"TEMP\"])[::4]\n",
        "    dic[\"respiration\"]=np.squeeze(data[\"signal\"][\"chest\"][\"Resp\"])[::700]\n",
        "    dic[\"ECG\"]=np.squeeze(data[\"signal\"][\"chest\"][\"ECG\"])[::700]\n",
        "    dic[\"ACC_x\"] =np.squeeze(data[\"signal\"][\"chest\"][\"ACC\"])[::700,0]\n",
        "    dic[\"ACC_y\"] =np.squeeze(data[\"signal\"][\"chest\"][\"ACC\"])[::700,1]\n",
        "    dic[\"ACC_z\"] =np.squeeze(data[\"signal\"][\"chest\"][\"ACC\"])[::700,2]\n",
        "\n",
        "    label_result=[]\n",
        "    for i in range(len(data[\"label\"])):\n",
        "        label_result.append(data[\"label\"][i])\n",
        "        label_result.append(data[\"label\"][i])\n",
        "    for i in range(abs(len(label_result)-len(dic[\"activity\"]))):\n",
        "        label_result.append(data[\"label\"][len(data[\"label\"])-1])\n",
        "    dic[\"label\"]=np.squeeze(label_result)\n",
        "    df = pd.DataFrame.from_dict(dic)\n",
        "    return df"
      ],
      "execution_count": 0,
      "outputs": []
    },
    {
      "cell_type": "code",
      "metadata": {
        "id": "cyYMQSbHwL5y",
        "colab_type": "code",
        "colab": {
          "base_uri": "https://localhost:8080/",
          "height": 272
        },
        "outputId": "568eac45-46bc-4c43-c9f9-561273475604"
      },
      "source": [
        "import pickle\n",
        "listeDfs = []\n",
        "\n",
        "for i in range(1, 16):\n",
        "  print(\"datafile = PPG_FieldStudy/S\"+str(i)+\"/S\"+str(i)+\".pkl\")\n",
        "  datafile = \"PPG_FieldStudy/S\"+str(i)+\"/S\"+str(i)+\".pkl\"\n",
        "  with open(datafile, \"rb\") as f:\n",
        "    read_data = pd.read_pickle(datafile)\n",
        "    df = toDataframe(read_data)\n",
        "    listeDfs.append(df)\n",
        "    \n",
        "finalDf = pd.concat(listeDfs)"
      ],
      "execution_count": 8,
      "outputs": [
        {
          "output_type": "stream",
          "text": [
            "datafile = PPG_FieldStudy/S1/S1.pkl\n",
            "datafile = PPG_FieldStudy/S2/S2.pkl\n",
            "datafile = PPG_FieldStudy/S3/S3.pkl\n",
            "datafile = PPG_FieldStudy/S4/S4.pkl\n",
            "datafile = PPG_FieldStudy/S5/S5.pkl\n",
            "datafile = PPG_FieldStudy/S6/S6.pkl\n",
            "datafile = PPG_FieldStudy/S7/S7.pkl\n",
            "datafile = PPG_FieldStudy/S8/S8.pkl\n",
            "datafile = PPG_FieldStudy/S9/S9.pkl\n",
            "datafile = PPG_FieldStudy/S10/S10.pkl\n",
            "datafile = PPG_FieldStudy/S11/S11.pkl\n",
            "datafile = PPG_FieldStudy/S12/S12.pkl\n",
            "datafile = PPG_FieldStudy/S13/S13.pkl\n",
            "datafile = PPG_FieldStudy/S14/S14.pkl\n",
            "datafile = PPG_FieldStudy/S15/S15.pkl\n"
          ],
          "name": "stdout"
        }
      ]
    },
    {
      "cell_type": "code",
      "metadata": {
        "id": "gk3wxueR0G_S",
        "colab_type": "code",
        "colab": {
          "base_uri": "https://localhost:8080/",
          "height": 419
        },
        "outputId": "cec24a2d-4efa-4fdc-bda0-0864de159656"
      },
      "source": [
        "finalDf"
      ],
      "execution_count": 9,
      "outputs": [
        {
          "output_type": "execute_result",
          "data": {
            "text/html": [
              "<div>\n",
              "<style scoped>\n",
              "    .dataframe tbody tr th:only-of-type {\n",
              "        vertical-align: middle;\n",
              "    }\n",
              "\n",
              "    .dataframe tbody tr th {\n",
              "        vertical-align: top;\n",
              "    }\n",
              "\n",
              "    .dataframe thead th {\n",
              "        text-align: right;\n",
              "    }\n",
              "</style>\n",
              "<table border=\"1\" class=\"dataframe\">\n",
              "  <thead>\n",
              "    <tr style=\"text-align: right;\">\n",
              "      <th></th>\n",
              "      <th>Subject</th>\n",
              "      <th>activity</th>\n",
              "      <th>respiration</th>\n",
              "      <th>ACC_w_x</th>\n",
              "      <th>ACC_w_y</th>\n",
              "      <th>ACC_w_z</th>\n",
              "      <th>temp</th>\n",
              "      <th>ECG</th>\n",
              "      <th>ACC_x</th>\n",
              "      <th>ACC_y</th>\n",
              "      <th>ACC_z</th>\n",
              "      <th>label</th>\n",
              "    </tr>\n",
              "  </thead>\n",
              "  <tbody>\n",
              "    <tr>\n",
              "      <th>0</th>\n",
              "      <td>S1</td>\n",
              "      <td>0.0</td>\n",
              "      <td>4.441833</td>\n",
              "      <td>-0.765625</td>\n",
              "      <td>-0.078125</td>\n",
              "      <td>0.671875</td>\n",
              "      <td>32.13</td>\n",
              "      <td>0.015610</td>\n",
              "      <td>0.8564</td>\n",
              "      <td>-0.0678</td>\n",
              "      <td>-0.3656</td>\n",
              "      <td>49.611369</td>\n",
              "    </tr>\n",
              "    <tr>\n",
              "      <th>1</th>\n",
              "      <td>S1</td>\n",
              "      <td>0.0</td>\n",
              "      <td>-1.475525</td>\n",
              "      <td>-0.765625</td>\n",
              "      <td>-0.078125</td>\n",
              "      <td>0.671875</td>\n",
              "      <td>32.16</td>\n",
              "      <td>-0.089905</td>\n",
              "      <td>0.8510</td>\n",
              "      <td>-0.0674</td>\n",
              "      <td>-0.3694</td>\n",
              "      <td>49.611369</td>\n",
              "    </tr>\n",
              "    <tr>\n",
              "      <th>2</th>\n",
              "      <td>S1</td>\n",
              "      <td>0.0</td>\n",
              "      <td>2.915955</td>\n",
              "      <td>-0.750000</td>\n",
              "      <td>-0.078125</td>\n",
              "      <td>0.671875</td>\n",
              "      <td>32.15</td>\n",
              "      <td>0.159714</td>\n",
              "      <td>0.8520</td>\n",
              "      <td>-0.0666</td>\n",
              "      <td>-0.3826</td>\n",
              "      <td>50.323992</td>\n",
              "    </tr>\n",
              "    <tr>\n",
              "      <th>3</th>\n",
              "      <td>S1</td>\n",
              "      <td>0.0</td>\n",
              "      <td>-3.044128</td>\n",
              "      <td>-0.750000</td>\n",
              "      <td>-0.078125</td>\n",
              "      <td>0.671875</td>\n",
              "      <td>32.15</td>\n",
              "      <td>-0.012955</td>\n",
              "      <td>0.8490</td>\n",
              "      <td>-0.0696</td>\n",
              "      <td>-0.3740</td>\n",
              "      <td>50.323992</td>\n",
              "    </tr>\n",
              "    <tr>\n",
              "      <th>4</th>\n",
              "      <td>S1</td>\n",
              "      <td>0.0</td>\n",
              "      <td>-1.623535</td>\n",
              "      <td>-1.046875</td>\n",
              "      <td>-0.046875</td>\n",
              "      <td>0.843750</td>\n",
              "      <td>32.15</td>\n",
              "      <td>0.014603</td>\n",
              "      <td>0.8300</td>\n",
              "      <td>-0.0102</td>\n",
              "      <td>-0.3502</td>\n",
              "      <td>52.708336</td>\n",
              "    </tr>\n",
              "    <tr>\n",
              "      <th>...</th>\n",
              "      <td>...</td>\n",
              "      <td>...</td>\n",
              "      <td>...</td>\n",
              "      <td>...</td>\n",
              "      <td>...</td>\n",
              "      <td>...</td>\n",
              "      <td>...</td>\n",
              "      <td>...</td>\n",
              "      <td>...</td>\n",
              "      <td>...</td>\n",
              "      <td>...</td>\n",
              "      <td>...</td>\n",
              "    </tr>\n",
              "    <tr>\n",
              "      <th>7934</th>\n",
              "      <td>S15</td>\n",
              "      <td>0.0</td>\n",
              "      <td>-2.540588</td>\n",
              "      <td>-0.265625</td>\n",
              "      <td>0.015625</td>\n",
              "      <td>0.953125</td>\n",
              "      <td>33.99</td>\n",
              "      <td>0.214462</td>\n",
              "      <td>0.8894</td>\n",
              "      <td>0.0398</td>\n",
              "      <td>-0.2086</td>\n",
              "      <td>80.853007</td>\n",
              "    </tr>\n",
              "    <tr>\n",
              "      <th>7935</th>\n",
              "      <td>S15</td>\n",
              "      <td>0.0</td>\n",
              "      <td>2.925110</td>\n",
              "      <td>-0.250000</td>\n",
              "      <td>0.000000</td>\n",
              "      <td>0.953125</td>\n",
              "      <td>34.00</td>\n",
              "      <td>0.021835</td>\n",
              "      <td>0.9006</td>\n",
              "      <td>0.0178</td>\n",
              "      <td>-0.1998</td>\n",
              "      <td>80.853007</td>\n",
              "    </tr>\n",
              "    <tr>\n",
              "      <th>7936</th>\n",
              "      <td>S15</td>\n",
              "      <td>0.0</td>\n",
              "      <td>-1.231384</td>\n",
              "      <td>-0.812500</td>\n",
              "      <td>0.843750</td>\n",
              "      <td>0.000000</td>\n",
              "      <td>33.99</td>\n",
              "      <td>0.041794</td>\n",
              "      <td>0.9014</td>\n",
              "      <td>0.0306</td>\n",
              "      <td>-0.2344</td>\n",
              "      <td>80.853007</td>\n",
              "    </tr>\n",
              "    <tr>\n",
              "      <th>7937</th>\n",
              "      <td>S15</td>\n",
              "      <td>0.0</td>\n",
              "      <td>1.791382</td>\n",
              "      <td>-0.500000</td>\n",
              "      <td>0.859375</td>\n",
              "      <td>0.062500</td>\n",
              "      <td>33.99</td>\n",
              "      <td>-0.306839</td>\n",
              "      <td>0.9160</td>\n",
              "      <td>0.0176</td>\n",
              "      <td>-0.2230</td>\n",
              "      <td>80.853007</td>\n",
              "    </tr>\n",
              "    <tr>\n",
              "      <th>7938</th>\n",
              "      <td>S15</td>\n",
              "      <td>0.0</td>\n",
              "      <td>0.563049</td>\n",
              "      <td>-0.609375</td>\n",
              "      <td>0.890625</td>\n",
              "      <td>0.265625</td>\n",
              "      <td>33.99</td>\n",
              "      <td>0.075851</td>\n",
              "      <td>0.8962</td>\n",
              "      <td>-0.0184</td>\n",
              "      <td>-0.2280</td>\n",
              "      <td>80.853007</td>\n",
              "    </tr>\n",
              "  </tbody>\n",
              "</table>\n",
              "<p>129489 rows × 12 columns</p>\n",
              "</div>"
            ],
            "text/plain": [
              "     Subject  activity  respiration  ...   ACC_y   ACC_z      label\n",
              "0         S1       0.0     4.441833  ... -0.0678 -0.3656  49.611369\n",
              "1         S1       0.0    -1.475525  ... -0.0674 -0.3694  49.611369\n",
              "2         S1       0.0     2.915955  ... -0.0666 -0.3826  50.323992\n",
              "3         S1       0.0    -3.044128  ... -0.0696 -0.3740  50.323992\n",
              "4         S1       0.0    -1.623535  ... -0.0102 -0.3502  52.708336\n",
              "...      ...       ...          ...  ...     ...     ...        ...\n",
              "7934     S15       0.0    -2.540588  ...  0.0398 -0.2086  80.853007\n",
              "7935     S15       0.0     2.925110  ...  0.0178 -0.1998  80.853007\n",
              "7936     S15       0.0    -1.231384  ...  0.0306 -0.2344  80.853007\n",
              "7937     S15       0.0     1.791382  ...  0.0176 -0.2230  80.853007\n",
              "7938     S15       0.0     0.563049  ... -0.0184 -0.2280  80.853007\n",
              "\n",
              "[129489 rows x 12 columns]"
            ]
          },
          "metadata": {
            "tags": []
          },
          "execution_count": 9
        }
      ]
    },
    {
      "cell_type": "markdown",
      "metadata": {
        "id": "t0MXqtCkNfkM",
        "colab_type": "text"
      },
      "source": [
        "Visualisation"
      ]
    },
    {
      "cell_type": "code",
      "metadata": {
        "id": "uEqSM4YQEYug",
        "colab_type": "code",
        "colab": {
          "base_uri": "https://localhost:8080/",
          "height": 279
        },
        "outputId": "070c080b-b58d-450d-8485-458cbfec3161"
      },
      "source": [
        "import matplotlib.pyplot as plt\n",
        "\n",
        "plt.scatter(finalDf[\"Subject\"], finalDf[\"activity\"])\n",
        "plt.ylabel('Activity')\n",
        "plt.xlabel(\"Sujet\")\n",
        "plt.show()"
      ],
      "execution_count": 32,
      "outputs": [
        {
          "output_type": "display_data",
          "data": {
            "image/png": "[encoded data removed]",
            "text/plain": [
              "<Figure size 432x288 with 1 Axes>"
            ]
          },
          "metadata": {
            "tags": []
          }
        }
      ]
    },
    {
      "cell_type": "code",
      "metadata": {
        "id": "w2qlBLLfFaLN",
        "colab_type": "code",
        "colab": {
          "base_uri": "https://localhost:8080/",
          "height": 923
        },
        "outputId": "96790152-0cec-4427-cbbd-cecc84b47e99"
      },
      "source": [
        "import seaborn as sn\n",
        "matrix_correlation = finalDf.corr()\n",
        "\n",
        "plt.figure(figsize=(18,16))\n",
        "sn.heatmap(matrix_correlation, annot=True, cmap=plt.cm.Reds)\n",
        "plt.show()"
      ],
      "execution_count": 37,
      "outputs": [
        {
          "output_type": "display_data",
          "data": {
            "image/png": "[encoded data removed]",
            "text/plain": [
              "<Figure size 1296x1152 with 2 Axes>"
            ]
          },
          "metadata": {
            "tags": []
          }
        }
      ]
    },
    {
      "cell_type": "markdown",
      "metadata": {
        "id": "3CfPBCPEGueZ",
        "colab_type": "text"
      },
      "source": [
        "Modélisation"
      ]
    },
    {
      "cell_type": "code",
      "metadata": {
        "id": "01dvPwU9HziE",
        "colab_type": "code",
        "colab": {}
      },
      "source": [
        "import numpy as np\n",
        "from sklearn.ensemble import RandomForestClassifier\n",
        "from sklearn.datasets import make_classification\n",
        "from sklearn.model_selection import train_test_split\n",
        "\n",
        "Y = finalDf[\"activity\"]\n",
        "X = finalDf.drop([\"activity\"], axis=1)\n",
        "xTrain, xTest, yTrain, yTest = train_test_split(X, Y, test_size = 0.2, random_state = 0)"
      ],
      "execution_count": 0,
      "outputs": []
    },
    {
      "cell_type": "code",
      "metadata": {
        "id": "W5-3Y2dfIEet",
        "colab_type": "code",
        "colab": {}
      },
      "source": [
        "model = RandomForestClassifier()\n",
        "\n",
        "model.fit(xTrain, yTrain)\n",
        "\n",
        "prediction = model.predict(xTest)\n",
        "\n",
        "acc2 = accuracy_score(yTest, prediction)\n",
        "\n",
        "print (\"Accuracy pour Random Forest\")\n",
        "print (acc2)"
      ],
      "execution_count": 0,
      "outputs": []
    },
    {
      "cell_type": "code",
      "metadata": {
        "id": "CI0GyNn2Id7A",
        "colab_type": "code",
        "colab": {}
      },
      "source": [
        "from sklearn.linear_model import LogisticRegression\n",
        "\n",
        "logreg = LogisticRegression()\n",
        "\n",
        "logreg.fit(xTrain,yTrain)\n",
        "\n",
        "y_pred=logreg.predict(xTest)\n",
        "\n",
        "showConfMatrix(yTest, y_pred)"
      ],
      "execution_count": 0,
      "outputs": []
    }
  ]
}